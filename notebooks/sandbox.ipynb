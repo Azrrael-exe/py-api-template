{
 "cells": [
  {
   "cell_type": "code",
   "execution_count": 1,
   "id": "e24de9b1",
   "metadata": {},
   "outputs": [],
   "source": [
    "%%capture\n",
    "%load_ext dotenv\n",
    "%dotenv"
   ]
  },
  {
   "cell_type": "code",
   "execution_count": 2,
   "id": "2e585fe1",
   "metadata": {},
   "outputs": [],
   "source": [
    "import os\n",
    "\n",
    "import warnings\n",
    "from pprint import pprint\n",
    "warnings.filterwarnings('ignore')\n",
    "os.chdir(\"/Users/azrrael/embedded/py-api-template\")"
   ]
  },
  {
   "cell_type": "code",
   "execution_count": 3,
   "id": "b976ea2c",
   "metadata": {},
   "outputs": [],
   "source": [
    "from src.application.use_cases.healt_check_use_case import HealthCheckUseCase\n",
    "from src.domain.entities.app_config import AppConfig\n",
    "from datetime import datetime"
   ]
  },
  {
   "cell_type": "code",
   "execution_count": 4,
   "id": "917ed47f",
   "metadata": {},
   "outputs": [],
   "source": [
    "app_config = AppConfig()"
   ]
  },
  {
   "cell_type": "code",
   "execution_count": 5,
   "id": "027c550a",
   "metadata": {},
   "outputs": [],
   "source": [
    "health_check_use_case = HealthCheckUseCase(app_config, datetime.now())"
   ]
  },
  {
   "cell_type": "code",
   "execution_count": 22,
   "id": "89d68242",
   "metadata": {},
   "outputs": [
    {
     "data": {
      "text/plain": [
       "{'app_name': 'py-api-template', 'env': 'local', 'running_time': 7.354027}"
      ]
     },
     "execution_count": 22,
     "metadata": {},
     "output_type": "execute_result"
    }
   ],
   "source": [
    "await health_check_use_case.execute()"
   ]
  },
  {
   "cell_type": "code",
   "execution_count": 28,
   "id": "b36e103e",
   "metadata": {},
   "outputs": [
    {
     "data": {
      "text/plain": [
       "{'app_name': 'py-api-template', 'env': 'local', 'running_time': 2.960649}"
      ]
     },
     "execution_count": 28,
     "metadata": {},
     "output_type": "execute_result"
    }
   ],
   "source": [
    "import requests\n",
    "response = requests.get(\"http://localhost:8000/api/health\")\n",
    "response.json()\n"
   ]
  },
  {
   "cell_type": "code",
   "execution_count": 30,
   "id": "4533c72a",
   "metadata": {},
   "outputs": [
    {
     "data": {
      "text/plain": [
       "{'detail': [{'type': 'missing',\n",
       "   'loc': ['query', 'word'],\n",
       "   'msg': 'Field required',\n",
       "   'input': None}]}"
      ]
     },
     "execution_count": 30,
     "metadata": {},
     "output_type": "execute_result"
    }
   ],
   "source": [
    "payload = {\"word\": \"hola\"}\n",
    "\n",
    "response = requests.post(\"http://localhost:8000/api/flip-word\", json=payload)\n",
    "response.json()"
   ]
  }
 ],
 "metadata": {
  "kernelspec": {
   "display_name": ".venv",
   "language": "python",
   "name": "python3"
  },
  "language_info": {
   "codemirror_mode": {
    "name": "ipython",
    "version": 3
   },
   "file_extension": ".py",
   "mimetype": "text/x-python",
   "name": "python",
   "nbconvert_exporter": "python",
   "pygments_lexer": "ipython3",
   "version": "3.13.6"
  }
 },
 "nbformat": 4,
 "nbformat_minor": 5
}
