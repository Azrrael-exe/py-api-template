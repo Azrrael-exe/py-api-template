{
 "cells": [
  {
   "cell_type": "code",
   "execution_count": 1,
   "id": "e24de9b1",
   "metadata": {},
   "outputs": [],
   "source": [
    "%%capture\n",
    "%load_ext dotenv\n",
    "%dotenv"
   ]
  },
  {
   "cell_type": "code",
   "execution_count": 2,
   "id": "2e585fe1",
   "metadata": {},
   "outputs": [],
   "source": [
    "import os\n",
    "\n",
    "import warnings\n",
    "from pprint import pprint\n",
    "warnings.filterwarnings('ignore')\n",
    "os.chdir(\"/Users/azrrael/embedded/py-api-template\")"
   ]
  },
  {
   "cell_type": "code",
   "execution_count": 3,
   "id": "b976ea2c",
   "metadata": {},
   "outputs": [],
   "source": [
    "from src.application.use_cases.healt_check_use_case import HealthCheckUseCase\n",
    "from src.domain.entities.app_config import AppConfig\n",
    "from datetime import datetime"
   ]
  },
  {
   "cell_type": "code",
   "execution_count": 4,
   "id": "917ed47f",
   "metadata": {},
   "outputs": [],
   "source": [
    "app_config = AppConfig()"
   ]
  },
  {
   "cell_type": "code",
   "execution_count": 5,
   "id": "027c550a",
   "metadata": {},
   "outputs": [],
   "source": [
    "health_check_use_case = HealthCheckUseCase(app_config, datetime.now())"
   ]
  },
  {
   "cell_type": "code",
   "execution_count": 6,
   "id": "89d68242",
   "metadata": {},
   "outputs": [
    {
     "data": {
      "text/plain": [
       "{'app_name': 'py-api-template', 'env': 'local', 'running_time': 0.004517}"
      ]
     },
     "execution_count": 6,
     "metadata": {},
     "output_type": "execute_result"
    }
   ],
   "source": [
    "await health_check_use_case.execute()"
   ]
  },
  {
   "cell_type": "code",
   "execution_count": 7,
   "id": "424e471e",
   "metadata": {},
   "outputs": [],
   "source": [
    "from src.application.dto.flip_word_dto import FlipWordRequest, FlipWordResponse\n",
    "from src.application.use_cases.flip_word_use_case import FlipWordUseCase"
   ]
  },
  {
   "cell_type": "code",
   "execution_count": 8,
   "id": "c349af23",
   "metadata": {},
   "outputs": [
    {
     "data": {
      "text/plain": [
       "'odnum aloh'"
      ]
     },
     "execution_count": 8,
     "metadata": {},
     "output_type": "execute_result"
    }
   ],
   "source": [
    "input = FlipWordRequest(word=\"hola mundo\")\n",
    "flip_word_use_case = FlipWordUseCase()\n",
    "output = await flip_word_use_case.execute(input)\n",
    "output.word\n"
   ]
  },
  {
   "cell_type": "code",
   "execution_count": 3,
   "id": "1fb9f782",
   "metadata": {},
   "outputs": [],
   "source": [
    "from src.infrastructure.repositories.in_memory import InMemoryStorage\n",
    "storage = InMemoryStorage()\n",
    "\n",
    "from src.application.use_cases.repository_use_case import SaveKeyUseCase, GetKeyUseCase\n",
    "from src.application.dto.repository_dto import SaveKeyRequest, GetKeyRequest, ValueResponse\n",
    "save_key_use_case = SaveKeyUseCase(storage)\n",
    "get_key_use_case = GetKeyUseCase(storage)\n",
    "\n"
   ]
  },
  {
   "cell_type": "code",
   "execution_count": 6,
   "id": "7b7b7b7d",
   "metadata": {},
   "outputs": [
    {
     "data": {
      "text/plain": [
       "ValueResponse(key='hello', value='world')"
      ]
     },
     "execution_count": 6,
     "metadata": {},
     "output_type": "execute_result"
    }
   ],
   "source": [
    "save_key_use_case.execute(SaveKeyRequest(key=\"hello\", value=\"world\"))"
   ]
  },
  {
   "cell_type": "code",
   "execution_count": 8,
   "id": "65319e3f",
   "metadata": {},
   "outputs": [
    {
     "data": {
      "text/plain": [
       "ValueResponse(key='hello', value='world')"
      ]
     },
     "execution_count": 8,
     "metadata": {},
     "output_type": "execute_result"
    }
   ],
   "source": [
    "get_key_use_case.execute(GetKeyRequest(key=\"hello\"))"
   ]
  }
 ],
 "metadata": {
  "kernelspec": {
   "display_name": ".venv",
   "language": "python",
   "name": "python3"
  },
  "language_info": {
   "codemirror_mode": {
    "name": "ipython",
    "version": 3
   },
   "file_extension": ".py",
   "mimetype": "text/x-python",
   "name": "python",
   "nbconvert_exporter": "python",
   "pygments_lexer": "ipython3",
   "version": "3.13.6"
  }
 },
 "nbformat": 4,
 "nbformat_minor": 5
}
